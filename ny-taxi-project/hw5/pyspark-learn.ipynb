{
 "cells": [
  {
   "cell_type": "code",
   "execution_count": 1,
   "id": "69173272",
   "metadata": {},
   "outputs": [],
   "source": [
    "import os\n",
    "import pyspark\n",
    "from pyspark.sql import SparkSession\n",
    "memory = '2g'\n",
    "pyspark_submit_args = ' --driver-memory ' + memory + ' pyspark-shell'\n",
    "os.environ[\"PYSPARK_SUBMIT_ARGS\"] = pyspark_submit_args\n",
    "\n",
    "# we can verify the memory in the spark server/Environment\n",
    "\n",
    "# An alternative mechanism for setting memory is \n",
    "# https://docs.qubole.com/en/latest/user-guide/notebooks-and-dashboards/notebooks/jupyter-notebooks/config-spark-settings-jupy.html"
   ]
  },
  {
   "cell_type": "code",
   "execution_count": 1,
   "id": "2483c67c",
   "metadata": {},
   "outputs": [
    {
     "name": "stdout",
     "output_type": "stream",
     "text": [
      "--2022-02-25 21:15:09--  https://s3.amazonaws.com/nyc-tlc/misc/taxi+_zone_lookup.csv\n",
      "Resolving s3.amazonaws.com (s3.amazonaws.com)... 52.217.139.0\n",
      "Connecting to s3.amazonaws.com (s3.amazonaws.com)|52.217.139.0|:443... connected.\n",
      "HTTP request sent, awaiting response... 200 OK\n",
      "Length: 12322 (12K) [application/octet-stream]\n",
      "Saving to: ‘taxi+_zone_lookup.csv.1’\n",
      "\n",
      "taxi+_zone_lookup.c 100%[===================>]  12.03K  --.-KB/s    in 0s      \n",
      "\n",
      "2022-02-25 21:15:10 (91.1 MB/s) - ‘taxi+_zone_lookup.csv.1’ saved [12322/12322]\n",
      "\n"
     ]
    }
   ],
   "source": [
    "!wget https://s3.amazonaws.com/nyc-tlc/misc/taxi+_zone_lookup.csv"
   ]
  },
  {
   "cell_type": "code",
   "execution_count": 2,
   "id": "254a7620",
   "metadata": {},
   "outputs": [
    {
     "name": "stderr",
     "output_type": "stream",
     "text": [
      "Using Spark's default log4j profile: org/apache/spark/log4j-defaults.properties\n",
      "Setting default log level to \"WARN\".\n",
      "To adjust logging level use sc.setLogLevel(newLevel). For SparkR, use setLogLevel(newLevel).\n",
      "22/02/25 21:30:24 WARN NativeCodeLoader: Unable to load native-hadoop library for your platform... using builtin-java classes where applicable\n"
     ]
    },
    {
     "name": "stdout",
     "output_type": "stream",
     "text": [
      "+----------+-------------+--------------------+------------+\n",
      "|LocationID|      Borough|                Zone|service_zone|\n",
      "+----------+-------------+--------------------+------------+\n",
      "|         1|          EWR|      Newark Airport|         EWR|\n",
      "|         2|       Queens|         Jamaica Bay|   Boro Zone|\n",
      "|         3|        Bronx|Allerton/Pelham G...|   Boro Zone|\n",
      "|         4|    Manhattan|       Alphabet City| Yellow Zone|\n",
      "|         5|Staten Island|       Arden Heights|   Boro Zone|\n",
      "|         6|Staten Island|Arrochar/Fort Wad...|   Boro Zone|\n",
      "|         7|       Queens|             Astoria|   Boro Zone|\n",
      "|         8|       Queens|        Astoria Park|   Boro Zone|\n",
      "|         9|       Queens|          Auburndale|   Boro Zone|\n",
      "|        10|       Queens|        Baisley Park|   Boro Zone|\n",
      "|        11|     Brooklyn|          Bath Beach|   Boro Zone|\n",
      "|        12|    Manhattan|        Battery Park| Yellow Zone|\n",
      "|        13|    Manhattan|   Battery Park City| Yellow Zone|\n",
      "|        14|     Brooklyn|           Bay Ridge|   Boro Zone|\n",
      "|        15|       Queens|Bay Terrace/Fort ...|   Boro Zone|\n",
      "|        16|       Queens|             Bayside|   Boro Zone|\n",
      "|        17|     Brooklyn|             Bedford|   Boro Zone|\n",
      "|        18|        Bronx|        Bedford Park|   Boro Zone|\n",
      "|        19|       Queens|           Bellerose|   Boro Zone|\n",
      "|        20|        Bronx|             Belmont|   Boro Zone|\n",
      "+----------+-------------+--------------------+------------+\n",
      "only showing top 20 rows\n",
      "\n"
     ]
    }
   ],
   "source": [
    "spark = SparkSession.builder \\\n",
    "    .master(\"local[*]\") \\\n",
    "    .appName('test') \\\n",
    "    .getOrCreate()\n",
    "\n",
    "df = spark.read \\\n",
    "    .option(\"header\", \"true\") \\\n",
    "    .csv('taxi+_zone_lookup.csv')\n",
    "\n",
    "df.show()"
   ]
  },
  {
   "cell_type": "code",
   "execution_count": 3,
   "id": "77ac1fdc",
   "metadata": {},
   "outputs": [
    {
     "ename": "NameError",
     "evalue": "name 'sc' is not defined",
     "output_type": "error",
     "traceback": [
      "\u001b[0;31m---------------------------------------------------------------------------\u001b[0m",
      "\u001b[0;31mNameError\u001b[0m                                 Traceback (most recent call last)",
      "\u001b[0;32m/var/folders/8_/5jrrzcc913ld81kz2_vhx2jr0000gq/T/ipykernel_78318/3423576278.py\u001b[0m in \u001b[0;36m<module>\u001b[0;34m\u001b[0m\n\u001b[0;32m----> 1\u001b[0;31m \u001b[0msc\u001b[0m\u001b[0;34m.\u001b[0m\u001b[0m_conf\u001b[0m\u001b[0;34m.\u001b[0m\u001b[0mget\u001b[0m\u001b[0;34m(\u001b[0m\u001b[0;34m'spark.driver.memory'\u001b[0m\u001b[0;34m)\u001b[0m\u001b[0;34m\u001b[0m\u001b[0;34m\u001b[0m\u001b[0m\n\u001b[0m",
      "\u001b[0;31mNameError\u001b[0m: name 'sc' is not defined"
     ]
    }
   ],
   "source": [
    "sc = SparkContext(conf=conf)\n",
    "sc._conf.get('spark.driver.memory')"
   ]
  },
  {
   "cell_type": "code",
   "execution_count": null,
   "id": "f0a57377",
   "metadata": {},
   "outputs": [],
   "source": [
    "!wc -l taxi+_zone_lookup.csv"
   ]
  },
  {
   "cell_type": "code",
   "execution_count": null,
   "id": "0d691982",
   "metadata": {},
   "outputs": [],
   "source": [
    "df.write.parquet('zones')"
   ]
  },
  {
   "cell_type": "code",
   "execution_count": null,
   "id": "93505ae4",
   "metadata": {},
   "outputs": [],
   "source": [
    "!ls"
   ]
  },
  {
   "cell_type": "code",
   "execution_count": null,
   "id": "f9412143",
   "metadata": {},
   "outputs": [],
   "source": [
    "!wget https://nyc-tlc.s3.amazonaws.com/trip+data/fhvhv_tripdata_2021-01.csv"
   ]
  },
  {
   "cell_type": "code",
   "execution_count": null,
   "id": "9a868b21",
   "metadata": {},
   "outputs": [],
   "source": [
    "!wc -l fhvhv_tripdata_2021-01.csv"
   ]
  },
  {
   "cell_type": "code",
   "execution_count": null,
   "id": "3a30f57d",
   "metadata": {},
   "outputs": [],
   "source": [
    "df = spark.read \\\n",
    "    .option(\"header\", \"true\") \\\n",
    "    .csv('fhvhv_tripdata_2021-01.csv')\n",
    "\n",
    "df.show()"
   ]
  },
  {
   "cell_type": "code",
   "execution_count": null,
   "id": "c9b2472c",
   "metadata": {},
   "outputs": [],
   "source": [
    "spark.version"
   ]
  },
  {
   "cell_type": "code",
   "execution_count": null,
   "id": "86834792",
   "metadata": {},
   "outputs": [],
   "source": [
    "df.head(5)"
   ]
  },
  {
   "cell_type": "code",
   "execution_count": null,
   "id": "66886fe7",
   "metadata": {},
   "outputs": [],
   "source": [
    "type(df.head(1)[0])"
   ]
  },
  {
   "cell_type": "code",
   "execution_count": null,
   "id": "3ad28efd",
   "metadata": {},
   "outputs": [],
   "source": [
    "df.schema"
   ]
  },
  {
   "cell_type": "code",
   "execution_count": null,
   "id": "f0e7eba7",
   "metadata": {},
   "outputs": [],
   "source": [
    "!head -n 101 fhvhv_tripdata_2021-01.csv > head.csv"
   ]
  },
  {
   "cell_type": "code",
   "execution_count": null,
   "id": "1979b3f4",
   "metadata": {},
   "outputs": [],
   "source": [
    "!wc -l head.csv"
   ]
  },
  {
   "cell_type": "code",
   "execution_count": null,
   "id": "52d60124",
   "metadata": {},
   "outputs": [],
   "source": [
    "import pandas as pd\n",
    "df_pd = pd.read_csv('head.csv')\n",
    "df_pd.dtypes"
   ]
  },
  {
   "cell_type": "code",
   "execution_count": null,
   "id": "48c44d85",
   "metadata": {},
   "outputs": [],
   "source": [
    "spark.createDataFrame(df_pd).show()"
   ]
  },
  {
   "cell_type": "code",
   "execution_count": null,
   "id": "aca8176b",
   "metadata": {},
   "outputs": [],
   "source": [
    "spark.createDataFrame(df_pd).schema"
   ]
  },
  {
   "cell_type": "code",
   "execution_count": 4,
   "id": "1c1b4c4d",
   "metadata": {},
   "outputs": [],
   "source": [
    "from pyspark.sql import types\n",
    "schema = types.StructType([\n",
    "\ttypes.StructField('hvfhs_license_num',types.StringType(),True),\n",
    "\ttypes.StructField('dispatching_base_num',types.StringType(),True),\n",
    "\ttypes.StructField('pickup_datetime',types.TimestampType(),True),\n",
    "\ttypes.StructField('dropoff_datetime',types.TimestampType(),True),\n",
    "\ttypes.StructField('PULocationID',types.IntegerType(),True),\n",
    "\ttypes.StructField('DOLocationID',types.IntegerType(),True),\n",
    "\ttypes.StructField('SR_Flag',types.StringType(),True)\n",
    "])"
   ]
  },
  {
   "cell_type": "code",
   "execution_count": 5,
   "id": "62f96875",
   "metadata": {},
   "outputs": [
    {
     "name": "stdout",
     "output_type": "stream",
     "text": [
      "+-----------------+--------------------+-------------------+-------------------+------------+------------+-------+\n",
      "|hvfhs_license_num|dispatching_base_num|    pickup_datetime|   dropoff_datetime|PULocationID|DOLocationID|SR_Flag|\n",
      "+-----------------+--------------------+-------------------+-------------------+------------+------------+-------+\n",
      "|           HV0003|              B02682|2021-01-01 00:33:44|2021-01-01 00:49:07|         230|         166|   null|\n",
      "|           HV0003|              B02682|2021-01-01 00:55:19|2021-01-01 01:18:21|         152|         167|   null|\n",
      "|           HV0003|              B02764|2021-01-01 00:23:56|2021-01-01 00:38:05|         233|         142|   null|\n",
      "|           HV0003|              B02764|2021-01-01 00:42:51|2021-01-01 00:45:50|         142|         143|   null|\n",
      "|           HV0003|              B02764|2021-01-01 00:48:14|2021-01-01 01:08:42|         143|          78|   null|\n",
      "|           HV0005|              B02510|2021-01-01 00:06:59|2021-01-01 00:43:01|          88|          42|   null|\n",
      "|           HV0005|              B02510|2021-01-01 00:50:00|2021-01-01 01:04:57|          42|         151|   null|\n",
      "|           HV0003|              B02764|2021-01-01 00:14:30|2021-01-01 00:50:27|          71|         226|   null|\n",
      "|           HV0003|              B02875|2021-01-01 00:22:54|2021-01-01 00:30:20|         112|         255|   null|\n",
      "|           HV0003|              B02875|2021-01-01 00:40:12|2021-01-01 00:53:31|         255|         232|   null|\n",
      "|           HV0003|              B02875|2021-01-01 00:56:45|2021-01-01 01:17:42|         232|         198|   null|\n",
      "|           HV0003|              B02835|2021-01-01 00:29:04|2021-01-01 00:36:27|         113|          48|   null|\n",
      "|           HV0003|              B02835|2021-01-01 00:48:56|2021-01-01 00:59:12|         239|          75|   null|\n",
      "|           HV0004|              B02800|2021-01-01 00:15:24|2021-01-01 00:38:31|         181|         237|   null|\n",
      "|           HV0004|              B02800|2021-01-01 00:45:00|2021-01-01 01:06:45|         236|          68|   null|\n",
      "|           HV0003|              B02682|2021-01-01 00:11:53|2021-01-01 00:18:06|         256|         148|   null|\n",
      "|           HV0003|              B02682|2021-01-01 00:28:31|2021-01-01 00:41:40|          79|          80|   null|\n",
      "|           HV0003|              B02682|2021-01-01 00:50:49|2021-01-01 00:55:59|          17|         217|   null|\n",
      "|           HV0005|              B02510|2021-01-01 00:08:40|2021-01-01 00:39:39|          62|          29|   null|\n",
      "|           HV0003|              B02836|2021-01-01 00:53:48|2021-01-01 01:11:40|          22|          22|   null|\n",
      "+-----------------+--------------------+-------------------+-------------------+------------+------------+-------+\n",
      "only showing top 20 rows\n",
      "\n"
     ]
    }
   ],
   "source": [
    "df = spark.read \\\n",
    "    .option(\"header\", \"true\") \\\n",
    "    .schema(schema) \\\n",
    "    .csv('fhvhv_tripdata_2021-01.csv')\n",
    "\n",
    "df.show()"
   ]
  },
  {
   "cell_type": "code",
   "execution_count": null,
   "id": "de326dfd",
   "metadata": {},
   "outputs": [],
   "source": [
    "df.schema"
   ]
  },
  {
   "cell_type": "code",
   "execution_count": null,
   "id": "518d632f",
   "metadata": {},
   "outputs": [],
   "source": [
    "df.head(5)"
   ]
  },
  {
   "cell_type": "code",
   "execution_count": 9,
   "id": "b7c9ec7e",
   "metadata": {},
   "outputs": [],
   "source": [
    "# This is important to update the actual dataframe\n",
    "df = df.repartition(24)"
   ]
  },
  {
   "cell_type": "code",
   "execution_count": 10,
   "id": "6ffcd069",
   "metadata": {
    "scrolled": true
   },
   "outputs": [
    {
     "name": "stderr",
     "output_type": "stream",
     "text": [
      "22/02/25 21:35:30 WARN MemoryManager: Total allocation exceeds 95.00% (1,813,485,955 bytes) of heap memory\n",
      "Scaling row group sizes to 96.51% for 14 writers\n",
      "22/02/25 21:35:30 WARN MemoryManager: Total allocation exceeds 95.00% (1,813,485,955 bytes) of heap memory\n",
      "Scaling row group sizes to 90.08% for 15 writers\n",
      "22/02/25 21:35:30 WARN MemoryManager: Total allocation exceeds 95.00% (1,813,485,955 bytes) of heap memory\n",
      "Scaling row group sizes to 84.45% for 16 writers\n",
      "22/02/25 21:35:31 WARN MemoryManager: Total allocation exceeds 95.00% (1,813,485,955 bytes) of heap memory\n",
      "Scaling row group sizes to 90.08% for 15 writers\n",
      "22/02/25 21:35:31 WARN MemoryManager: Total allocation exceeds 95.00% (1,813,485,955 bytes) of heap memory\n",
      "Scaling row group sizes to 96.51% for 14 writers\n",
      "                                                                                \r"
     ]
    }
   ],
   "source": [
    "df.write.parquet('fhvhv/2021/01/') # use mode='overwrite'"
   ]
  },
  {
   "cell_type": "code",
   "execution_count": null,
   "id": "ad80af0b",
   "metadata": {},
   "outputs": [],
   "source": [
    "!ls"
   ]
  },
  {
   "cell_type": "code",
   "execution_count": 12,
   "id": "a5cd496a",
   "metadata": {},
   "outputs": [
    {
     "name": "stdout",
     "output_type": "stream",
     "text": [
      "      26\r\n"
     ]
    }
   ],
   "source": [
    "!ls -lh fhvhv/2021/01 | wc -l"
   ]
  },
  {
   "cell_type": "markdown",
   "id": "106af484",
   "metadata": {},
   "source": [
    "### More about Dataframes"
   ]
  },
  {
   "cell_type": "code",
   "execution_count": 13,
   "id": "76dd4e1e",
   "metadata": {},
   "outputs": [],
   "source": [
    "df = spark.read.parquet('fhvhv/2021/01/')"
   ]
  },
  {
   "cell_type": "code",
   "execution_count": 16,
   "id": "617524da",
   "metadata": {},
   "outputs": [
    {
     "name": "stdout",
     "output_type": "stream",
     "text": [
      "root\n",
      " |-- hvfhs_license_num: string (nullable = true)\n",
      " |-- dispatching_base_num: string (nullable = true)\n",
      " |-- pickup_datetime: timestamp (nullable = true)\n",
      " |-- dropoff_datetime: timestamp (nullable = true)\n",
      " |-- PULocationID: integer (nullable = true)\n",
      " |-- DOLocationID: integer (nullable = true)\n",
      " |-- SR_Flag: string (nullable = true)\n",
      "\n"
     ]
    }
   ],
   "source": [
    "df.printSchema()"
   ]
  },
  {
   "cell_type": "code",
   "execution_count": 15,
   "id": "de11255d",
   "metadata": {},
   "outputs": [
    {
     "data": {
      "text/plain": [
       "[Row(hvfhs_license_num='HV0003', dispatching_base_num='B02870', pickup_datetime=datetime.datetime(2021, 1, 1, 0, 32, 59), dropoff_datetime=datetime.datetime(2021, 1, 1, 0, 50, 47), PULocationID=169, DOLocationID=24, SR_Flag=None)]"
      ]
     },
     "execution_count": 15,
     "metadata": {},
     "output_type": "execute_result"
    }
   ],
   "source": [
    "df.head(1)"
   ]
  },
  {
   "cell_type": "code",
   "execution_count": 17,
   "id": "be400d69",
   "metadata": {},
   "outputs": [
    {
     "data": {
      "text/plain": [
       "DataFrame[hvfhs_license_num: string, dropoff_datetime: timestamp]"
      ]
     },
     "execution_count": 17,
     "metadata": {},
     "output_type": "execute_result"
    }
   ],
   "source": [
    "df.select(['hvfhs_license_num','dropoff_datetime'])"
   ]
  },
  {
   "cell_type": "code",
   "execution_count": 18,
   "id": "1142bcdb",
   "metadata": {},
   "outputs": [
    {
     "data": {
      "text/plain": [
       "DataFrame[hvfhs_license_num: string, dropoff_datetime: timestamp]"
      ]
     },
     "execution_count": 18,
     "metadata": {},
     "output_type": "execute_result"
    }
   ],
   "source": [
    "df.select('hvfhs_license_num','dropoff_datetime')"
   ]
  },
  {
   "cell_type": "code",
   "execution_count": 23,
   "id": "082c7321",
   "metadata": {
    "scrolled": true
   },
   "outputs": [
    {
     "name": "stdout",
     "output_type": "stream",
     "text": [
      "+-----------------+-------------------+-------------------+\n",
      "|hvfhs_license_num|    pickup_datetime|   dropoff_datetime|\n",
      "+-----------------+-------------------+-------------------+\n",
      "|           HV0003|2021-01-01 00:32:59|2021-01-01 00:50:47|\n",
      "|           HV0003|2021-01-01 18:26:07|2021-01-01 18:43:41|\n",
      "|           HV0003|2021-01-02 20:44:31|2021-01-02 20:55:49|\n",
      "|           HV0003|2021-01-02 21:36:26|2021-01-02 21:56:20|\n",
      "|           HV0003|2021-01-02 19:29:32|2021-01-02 19:42:29|\n",
      "|           HV0003|2021-01-02 16:13:07|2021-01-02 16:24:15|\n",
      "|           HV0003|2021-01-02 00:21:47|2021-01-02 00:49:22|\n",
      "|           HV0003|2021-01-01 13:58:53|2021-01-01 14:04:00|\n",
      "|           HV0003|2021-01-01 04:44:33|2021-01-01 04:51:26|\n",
      "|           HV0003|2021-01-01 14:44:06|2021-01-01 14:55:28|\n",
      "|           HV0003|2021-01-01 21:08:01|2021-01-01 21:17:55|\n",
      "|           HV0003|2021-01-02 14:34:15|2021-01-02 14:51:51|\n",
      "|           HV0003|2021-01-01 02:04:44|2021-01-01 02:25:29|\n",
      "|           HV0003|2021-01-02 21:22:46|2021-01-02 21:35:49|\n",
      "|           HV0003|2021-01-02 04:32:44|2021-01-02 04:53:01|\n",
      "|           HV0003|2021-01-02 16:28:21|2021-01-02 16:43:41|\n",
      "|           HV0003|2021-01-01 18:26:48|2021-01-01 18:45:18|\n",
      "|           HV0003|2021-01-02 19:19:10|2021-01-02 19:32:07|\n",
      "|           HV0003|2021-01-01 02:41:26|2021-01-01 02:45:36|\n",
      "|           HV0003|2021-01-01 11:20:30|2021-01-01 11:28:23|\n",
      "+-----------------+-------------------+-------------------+\n",
      "only showing top 20 rows\n",
      "\n"
     ]
    }
   ],
   "source": [
    "df.select('hvfhs_license_num','pickup_datetime','dropoff_datetime') \\\n",
    ".filter(df.hvfhs_license_num == 'HV0003').show()"
   ]
  },
  {
   "cell_type": "markdown",
   "id": "612a9ec6",
   "metadata": {},
   "source": [
    "![Actions_vs_Transformers](actions_transformers.png)"
   ]
  },
  {
   "cell_type": "markdown",
   "id": "6f0bccf5",
   "metadata": {},
   "source": [
    "`SELECT * from df where hvfhs_license_num= HV003`"
   ]
  },
  {
   "cell_type": "code",
   "execution_count": 25,
   "id": "c65a2a05",
   "metadata": {},
   "outputs": [],
   "source": [
    "from pyspark.sql import functions as F"
   ]
  },
  {
   "cell_type": "code",
   "execution_count": 44,
   "id": "5290fbb9",
   "metadata": {},
   "outputs": [
    {
     "name": "stdout",
     "output_type": "stream",
     "text": [
      "+-----------+------------+------------+------------+\n",
      "|pickup_date|dropoff_date|PULocationID|DOLocationID|\n",
      "+-----------+------------+------------+------------+\n",
      "| 2021-01-01|  2021-01-01|         169|          24|\n",
      "| 2021-01-01|  2021-01-01|         141|         231|\n",
      "| 2021-01-02|  2021-01-02|         197|          10|\n",
      "| 2021-01-02|  2021-01-02|         146|         244|\n",
      "| 2021-01-02|  2021-01-02|         197|         215|\n",
      "| 2021-01-02|  2021-01-02|         161|         233|\n",
      "| 2021-01-02|  2021-01-02|         227|          89|\n",
      "| 2021-01-01|  2021-01-01|          95|          95|\n",
      "| 2021-01-01|  2021-01-01|         248|         235|\n",
      "| 2021-01-01|  2021-01-01|           4|         113|\n",
      "| 2021-01-01|  2021-01-01|          47|         126|\n",
      "| 2021-01-02|  2021-01-02|           7|         263|\n",
      "| 2021-01-01|  2021-01-01|          48|          74|\n",
      "| 2021-01-02|  2021-01-02|         238|         100|\n",
      "| 2021-01-02|  2021-01-02|         202|         138|\n",
      "| 2021-01-02|  2021-01-02|          61|          40|\n",
      "| 2021-01-01|  2021-01-01|         247|         166|\n",
      "| 2021-01-01|  2021-01-01|         122|         205|\n",
      "| 2021-01-02|  2021-01-02|          37|          36|\n",
      "| 2021-01-02|  2021-01-02|         151|         152|\n",
      "+-----------+------------+------------+------------+\n",
      "only showing top 20 rows\n",
      "\n"
     ]
    }
   ],
   "source": [
    "df \\\n",
    "    .withColumn('pickup_date', F.to_date(df.pickup_datetime)) \\\n",
    "    .withColumn('dropoff_date', F.to_date(df.dropoff_datetime)) \\\n",
    "    .select(['pickup_date','dropoff_date','PULocationID','DOLocationID']) \\\n",
    "    .show()"
   ]
  },
  {
   "cell_type": "code",
   "execution_count": 47,
   "id": "3cb14032",
   "metadata": {},
   "outputs": [],
   "source": [
    "# Custom function\n",
    "def crazy_stuff(base_num):\n",
    "    num = int(base_num[1:])\n",
    "    return f's/{num:03x}' if num%7==0 else f'e/{num:03x}' "
   ]
  },
  {
   "cell_type": "code",
   "execution_count": 48,
   "id": "1f58fb31",
   "metadata": {},
   "outputs": [
    {
     "data": {
      "text/plain": [
       "'s/b44'"
      ]
     },
     "execution_count": 48,
     "metadata": {},
     "output_type": "execute_result"
    }
   ],
   "source": [
    "crazy_stuff('B02884')"
   ]
  },
  {
   "cell_type": "code",
   "execution_count": 51,
   "id": "a388769d",
   "metadata": {},
   "outputs": [],
   "source": [
    "crazy_stuff_udf = F.udf(crazy_stuff, returnType=types.StringType())"
   ]
  },
  {
   "cell_type": "code",
   "execution_count": 53,
   "id": "cdf98cfc",
   "metadata": {},
   "outputs": [
    {
     "name": "stderr",
     "output_type": "stream",
     "text": [
      "\r",
      "[Stage 18:>                                                         (0 + 1) / 1]\r"
     ]
    },
    {
     "name": "stdout",
     "output_type": "stream",
     "text": [
      "+-----------+-------+------------+------------+------------+\n",
      "|pickup_date|base_id|dropoff_date|PULocationID|DOLocationID|\n",
      "+-----------+-------+------------+------------+------------+\n",
      "| 2021-01-01|  s/b36|  2021-01-01|         169|          24|\n",
      "| 2021-01-01|  e/b38|  2021-01-01|         141|         231|\n",
      "| 2021-01-02|  e/acc|  2021-01-02|         197|          10|\n",
      "| 2021-01-02|  s/acd|  2021-01-02|         146|         244|\n",
      "| 2021-01-02|  e/a39|  2021-01-02|         197|         215|\n",
      "| 2021-01-02|  e/b14|  2021-01-02|         161|         233|\n",
      "| 2021-01-02|  e/acc|  2021-01-02|         227|          89|\n",
      "| 2021-01-01|  s/b3d|  2021-01-01|          95|          95|\n",
      "| 2021-01-01|  e/b47|  2021-01-01|         248|         235|\n",
      "| 2021-01-01|  e/b49|  2021-01-01|           4|         113|\n",
      "| 2021-01-01|  e/95b|  2021-01-01|          47|         126|\n",
      "| 2021-01-02|  e/a39|  2021-01-02|           7|         263|\n",
      "| 2021-01-01|  e/b37|  2021-01-01|          48|          74|\n",
      "| 2021-01-02|  e/b35|  2021-01-02|         238|         100|\n",
      "| 2021-01-02|  s/b3d|  2021-01-02|         202|         138|\n",
      "| 2021-01-02|  e/b43|  2021-01-02|          61|          40|\n",
      "| 2021-01-01|  e/a7a|  2021-01-01|         247|         166|\n",
      "| 2021-01-01|  e/9ce|  2021-01-01|         122|         205|\n",
      "| 2021-01-02|  s/b3d|  2021-01-02|          37|          36|\n",
      "| 2021-01-02|  e/9ce|  2021-01-02|         151|         152|\n",
      "+-----------+-------+------------+------------+------------+\n",
      "only showing top 20 rows\n",
      "\n"
     ]
    },
    {
     "name": "stderr",
     "output_type": "stream",
     "text": [
      "\r",
      "                                                                                \r"
     ]
    }
   ],
   "source": [
    "df \\\n",
    "    .withColumn('pickup_date', F.to_date(df.pickup_datetime)) \\\n",
    "    .withColumn('dropoff_date', F.to_date(df.dropoff_datetime)) \\\n",
    "    .withColumn('base_id', crazy_stuff_udf(df.dispatching_base_num)) \\\n",
    "    .select(['pickup_date','base_id','dropoff_date','PULocationID','DOLocationID']) \\\n",
    "    .show()"
   ]
  },
  {
   "cell_type": "code",
   "execution_count": null,
   "id": "566b21dd",
   "metadata": {},
   "outputs": [],
   "source": []
  }
 ],
 "metadata": {
  "kernelspec": {
   "display_name": "Python 3 (ipykernel)",
   "language": "python",
   "name": "python3"
  },
  "language_info": {
   "codemirror_mode": {
    "name": "ipython",
    "version": 3
   },
   "file_extension": ".py",
   "mimetype": "text/x-python",
   "name": "python",
   "nbconvert_exporter": "python",
   "pygments_lexer": "ipython3",
   "version": "3.9.7"
  }
 },
 "nbformat": 4,
 "nbformat_minor": 5
}
