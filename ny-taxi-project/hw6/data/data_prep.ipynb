{
 "cells": [
  {
   "cell_type": "code",
   "execution_count": 1,
   "id": "f911d525",
   "metadata": {},
   "outputs": [],
   "source": [
    "import pandas as pd"
   ]
  },
  {
   "cell_type": "code",
   "execution_count": 36,
   "id": "8d8a58e4",
   "metadata": {},
   "outputs": [
    {
     "data": {
      "text/plain": [
       "'2,2020-08-01 00:09:14,2020-08-01 00:17:56,N,1,95,130,1,2.25,9.5,0.5,0.5,2,0,,0.3,12.8,1,1,0\\r\\n'"
      ]
     },
     "execution_count": 36,
     "metadata": {},
     "output_type": "execute_result"
    }
   ],
   "source": [
    "df = pd.read_csv(\"rides_02.csv\",index_col=False)\n",
    "df.iloc[1,1]"
   ]
  },
  {
   "cell_type": "code",
   "execution_count": 37,
   "id": "447a9034",
   "metadata": {},
   "outputs": [
    {
     "data": {
      "text/plain": [
       "162128"
      ]
     },
     "execution_count": 37,
     "metadata": {},
     "output_type": "execute_result"
    }
   ],
   "source": [
    "df.size"
   ]
  },
  {
   "cell_type": "code",
   "execution_count": 39,
   "id": "e0d9864e",
   "metadata": {},
   "outputs": [
    {
     "name": "stderr",
     "output_type": "stream",
     "text": [
      "/var/folders/8_/5jrrzcc913ld81kz2_vhx2jr0000gq/T/ipykernel_72279/247071763.py:1: FutureWarning: In a future version of pandas all arguments of DataFrame.drop except for the argument 'labels' will be keyword-only\n",
      "  df = df.drop(['Unnamed: 0'],1)\n"
     ]
    },
    {
     "data": {
      "text/html": [
       "<div>\n",
       "<style scoped>\n",
       "    .dataframe tbody tr th:only-of-type {\n",
       "        vertical-align: middle;\n",
       "    }\n",
       "\n",
       "    .dataframe tbody tr th {\n",
       "        vertical-align: top;\n",
       "    }\n",
       "\n",
       "    .dataframe thead th {\n",
       "        text-align: right;\n",
       "    }\n",
       "</style>\n",
       "<table border=\"1\" class=\"dataframe\">\n",
       "  <thead>\n",
       "    <tr style=\"text-align: right;\">\n",
       "      <th></th>\n",
       "      <th>0</th>\n",
       "    </tr>\n",
       "  </thead>\n",
       "  <tbody>\n",
       "    <tr>\n",
       "      <th>0</th>\n",
       "      <td>VendorID,lpep_pickup_datetime,lpep_dropoff_dat...</td>\n",
       "    </tr>\n",
       "    <tr>\n",
       "      <th>1</th>\n",
       "      <td>2,2020-08-01 00:09:14,2020-08-01 00:17:56,N,1,...</td>\n",
       "    </tr>\n",
       "    <tr>\n",
       "      <th>2</th>\n",
       "      <td>2,2020-07-31 23:59:45,2020-08-01 00:12:19,N,1,...</td>\n",
       "    </tr>\n",
       "    <tr>\n",
       "      <th>3</th>\n",
       "      <td>1,2020-08-01 00:11:51,2020-08-01 00:18:18,N,1,...</td>\n",
       "    </tr>\n",
       "    <tr>\n",
       "      <th>4</th>\n",
       "      <td>2,2020-08-01 00:25:42,2020-08-01 00:29:24,N,1,...</td>\n",
       "    </tr>\n",
       "    <tr>\n",
       "      <th>...</th>\n",
       "      <td>...</td>\n",
       "    </tr>\n",
       "    <tr>\n",
       "      <th>295</th>\n",
       "      <td>2,2020-08-01 09:29:49,2020-08-01 09:31:53,N,1,...</td>\n",
       "    </tr>\n",
       "    <tr>\n",
       "      <th>296</th>\n",
       "      <td>2,2020-08-01 09:38:22,2020-08-01 09:51:06,N,1,...</td>\n",
       "    </tr>\n",
       "    <tr>\n",
       "      <th>297</th>\n",
       "      <td>2,2020-08-01 09:41:39,2020-08-01 09:55:19,N,1,...</td>\n",
       "    </tr>\n",
       "    <tr>\n",
       "      <th>298</th>\n",
       "      <td>2,2020-08-01 09:47:52,2020-08-01 10:07:38,N,1,...</td>\n",
       "    </tr>\n",
       "    <tr>\n",
       "      <th>299</th>\n",
       "      <td>2,2020-08-01 09:51:36,2020-08-01 10:48:24,N,1,...</td>\n",
       "    </tr>\n",
       "  </tbody>\n",
       "</table>\n",
       "<p>300 rows × 1 columns</p>\n",
       "</div>"
      ],
      "text/plain": [
       "                                                     0\n",
       "0    VendorID,lpep_pickup_datetime,lpep_dropoff_dat...\n",
       "1    2,2020-08-01 00:09:14,2020-08-01 00:17:56,N,1,...\n",
       "2    2,2020-07-31 23:59:45,2020-08-01 00:12:19,N,1,...\n",
       "3    1,2020-08-01 00:11:51,2020-08-01 00:18:18,N,1,...\n",
       "4    2,2020-08-01 00:25:42,2020-08-01 00:29:24,N,1,...\n",
       "..                                                 ...\n",
       "295  2,2020-08-01 09:29:49,2020-08-01 09:31:53,N,1,...\n",
       "296  2,2020-08-01 09:38:22,2020-08-01 09:51:06,N,1,...\n",
       "297  2,2020-08-01 09:41:39,2020-08-01 09:55:19,N,1,...\n",
       "298  2,2020-08-01 09:47:52,2020-08-01 10:07:38,N,1,...\n",
       "299  2,2020-08-01 09:51:36,2020-08-01 10:48:24,N,1,...\n",
       "\n",
       "[300 rows x 1 columns]"
      ]
     },
     "execution_count": 39,
     "metadata": {},
     "output_type": "execute_result"
    }
   ],
   "source": [
    "# df = df.drop(['Unnamed: 0'],1)\n",
    "df1 = df.head(300)\n",
    "df1"
   ]
  },
  {
   "cell_type": "code",
   "execution_count": 47,
   "id": "6da185b6",
   "metadata": {},
   "outputs": [],
   "source": [
    "import csv\n",
    "df1.to_csv(\"rides02.csv\", header= False, index= False, quoting = csv.QUOTE_NONE, escapechar='\\t')"
   ]
  },
  {
   "cell_type": "code",
   "execution_count": null,
   "id": "a290e82a",
   "metadata": {},
   "outputs": [],
   "source": []
  }
 ],
 "metadata": {
  "kernelspec": {
   "display_name": "Python 3 (ipykernel)",
   "language": "python",
   "name": "python3"
  },
  "language_info": {
   "codemirror_mode": {
    "name": "ipython",
    "version": 3
   },
   "file_extension": ".py",
   "mimetype": "text/x-python",
   "name": "python",
   "nbconvert_exporter": "python",
   "pygments_lexer": "ipython3",
   "version": "3.8.12"
  }
 },
 "nbformat": 4,
 "nbformat_minor": 5
}
